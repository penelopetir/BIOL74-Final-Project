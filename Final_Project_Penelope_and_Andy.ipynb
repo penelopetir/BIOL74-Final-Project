{
  "cells": [
    {
      "cell_type": "markdown",
      "metadata": {
        "id": "view-in-github",
        "colab_type": "text"
      },
      "source": [
        "<a href=\"https://colab.research.google.com/github/penelopetir/BIOL74-Final-Project/blob/main/Final_Project_Penelope_and_Andy.ipynb\" target=\"_parent\"><img src=\"https://colab.research.google.com/assets/colab-badge.svg\" alt=\"Open In Colab\"/></a>"
      ]
    },
    {
      "cell_type": "markdown",
      "metadata": {
        "id": "_UHKq7owyEb3"
      },
      "source": [
        "Before starting, we'll install neuron in our current runtime as usual."
      ]
    },
    {
      "cell_type": "code",
      "execution_count": 1,
      "metadata": {
        "id": "-tIWnxTSyEb4",
        "colab": {
          "base_uri": "https://localhost:8080/"
        },
        "outputId": "f70b4a44-f8a2-47ef-d3a0-37e46af72090"
      },
      "outputs": [
        {
          "output_type": "stream",
          "name": "stdout",
          "text": [
            "Collecting neuron\n",
            "  Downloading NEURON-8.2.4-cp310-cp310-manylinux_2_17_x86_64.manylinux2014_x86_64.whl (15.0 MB)\n",
            "\u001b[2K     \u001b[90m━━━━━━━━━━━━━━━━━━━━━━━━━━━━━━━━━━━━━━━━\u001b[0m \u001b[32m15.0/15.0 MB\u001b[0m \u001b[31m52.4 MB/s\u001b[0m eta \u001b[36m0:00:00\u001b[0m\n",
            "\u001b[?25hRequirement already satisfied: numpy>=1.9.3 in /usr/local/lib/python3.10/dist-packages (from neuron) (1.25.2)\n",
            "Requirement already satisfied: packaging in /usr/local/lib/python3.10/dist-packages (from neuron) (24.0)\n",
            "Collecting find-libpython (from neuron)\n",
            "  Downloading find_libpython-0.4.0-py3-none-any.whl (8.7 kB)\n",
            "Requirement already satisfied: setuptools in /usr/local/lib/python3.10/dist-packages (from neuron) (67.7.2)\n",
            "Installing collected packages: find-libpython, neuron\n",
            "Successfully installed find-libpython-0.4.0 neuron-8.2.4\n"
          ]
        }
      ],
      "source": [
        "%pip install neuron # only need to run this cell once to install\n",
        "                    # neuron in the local jupyter environment"
      ]
    },
    {
      "cell_type": "markdown",
      "metadata": {
        "id": "MnLvQk63yEb4"
      },
      "source": [
        "Run the code block below just once to get all the files from the repository into our colab session and compile the MOD mechanism files we'll be using"
      ]
    },
    {
      "cell_type": "code",
      "execution_count": 3,
      "metadata": {
        "id": "W-ggN7a4yEb5",
        "colab": {
          "base_uri": "https://localhost:8080/"
        },
        "outputId": "7fb44b75-32f8-4be9-a8c5-9fdbfe970384"
      },
      "outputs": [
        {
          "output_type": "stream",
          "name": "stdout",
          "text": [
            "/content/BIOL74-Final-Project\n",
            "Mod files: \"mechanisms/mechanisms/CadepK.mod\" \"mechanisms/mechanisms/CaDynamics_E2.mod\" \"mechanisms/mechanisms/Ca_HVA.mod\" \"mechanisms/mechanisms/Ca_LVAst.mod\" \"mechanisms/mechanisms/Ca.mod\" \"mechanisms/mechanisms/Ih.mod\" \"mechanisms/mechanisms/Im.mod\" \"mechanisms/mechanisms/K_Pst.mod\" \"mechanisms/mechanisms/K_Tst.mod\" \"mechanisms/mechanisms/Nap_Et2.mod\" \"mechanisms/mechanisms/NaTa_t.mod\" \"mechanisms/mechanisms/ProbAMPANMDA.mod\" \"mechanisms/mechanisms/ProbGABAA.mod\" \"mechanisms/mechanisms/SK_E2.mod\" \"mechanisms/mechanisms/SKv3_1.mod\"\n",
            "\n",
            " -> \u001b[32mCompiling\u001b[0m mod_func.cpp\n",
            " => \u001b[32mLINKING\u001b[0m shared library ./libnrnmech.so\n",
            "Successfully created x86_64/special\n"
          ]
        }
      ],
      "source": [
        "repo_name = 'BIOL74-Final-Project'\n",
        "if 'google.colab' in str(get_ipython()):\n",
        "    import os\n",
        "    if not os.path.exists(repo_name):\n",
        "        !git clone https://github.com/penelopetir/{repo_name}.git # downloads repository into our Google colab session's file system\n",
        "\n",
        "    os.chdir(repo_name) # Changing working directory to downloaded repository\n",
        "\n",
        "# Compile mechanisms\n",
        "!nrnivmodl mechanisms"
      ]
    },
    {
      "cell_type": "markdown",
      "metadata": {
        "id": "lAF0vI6cyEb5"
      },
      "source": [
        "## Introduction\n",
        "For this exercise, we'll be adapting a model of a L5PC to model granule neurons traced from wild type and PTEN KO groups\n"
      ]
    },
    {
      "cell_type": "markdown",
      "metadata": {
        "id": "WGyY_ksHyEb5"
      },
      "source": [
        "Start by importing the packages we'll be using."
      ]
    },
    {
      "cell_type": "code",
      "execution_count": 4,
      "metadata": {
        "id": "Xjm-vj0QyEb5"
      },
      "outputs": [],
      "source": [
        "from neuron import h # all NEURON hoc functions are accessed through h\n",
        "from neuron import gui # if you're running this notebook in a local environment (instead of on google colab), launches the GUI\n",
        "h.load_file('stdrun.hoc') # loads neuron standard hoc library, not always necessary\n",
        "import numpy as np\n",
        "import matplotlib as mpl\n",
        "mpl.rcParams['axes.spines.right'] = False\n",
        "mpl.rcParams['axes.spines.top'] = False\n",
        "import matplotlib.pyplot as plt\n",
        "import plotly\n",
        "from plotly.subplots import make_subplots\n",
        "import plotly.graph_objects as go\n",
        "\n",
        "if 'google.colab' in str(get_ipython()): # For making interactive plots work on google colab\n",
        "    from google.colab import output\n",
        "    output.enable_custom_widget_manager()\n",
        "else:\n",
        "    plotly.offline.init_notebook_mode() # for printing notebooks offline"
      ]
    },
    {
      "cell_type": "markdown",
      "metadata": {
        "id": "PEqWICXSyEb5"
      },
      "source": [
        "#Importing Morphologies\n",
        "\n",
        "Files from the github of traced neurons from NeuroLuicda 360 are imported and created with proper morphology. Biophysics are modeled after the Aradi et al 1999 paper."
      ]
    },
    {
      "cell_type": "code",
      "execution_count": 8,
      "metadata": {
        "id": "WrymsFl3yEb6",
        "colab": {
          "base_uri": "https://localhost:8080/"
        },
        "outputId": "addb132f-fe11-4645-c73e-537e1c49c7ea"
      },
      "outputs": [
        {
          "output_type": "stream",
          "name": "stdout",
          "text": [
            "somastack_process 5\n",
            "center\n",
            "213.285\t-110.197\t-70\t\n",
            "Principle values\n",
            "129.432\t11.5282\t3.74393\t\n",
            "Principle axes\n",
            " 0.0589   -0.931   -0.36   \n",
            " -0.268   -0.362   0.893   \n",
            " -0.962   0.0437   -0.271  \n",
            "stk_triang_area = 266.091\n"
          ]
        }
      ],
      "source": [
        "from helper_functions import createGranuleCell\n",
        "\n",
        "genotype = \"WT\" #change this string to \"WT\" or \"KO\" to determine which neuron to run the following code on\n",
        "\n",
        "if genotype == \"WT\":\n",
        "  WT_file = \"morphologies/WT.asc\" # morphology file\n",
        "  GC = createGranuleCell(WT_file)\n",
        "elif genotype == \"KO\":\n",
        "  KO_file = \"morphologies/PTEN_KO.asc\" # morphology file\n",
        "  GC = createGranuleCell(KO_file)\n",
        "else:\n",
        "  print(\"No neuron found\")\n",
        "\n",
        "# Create recording vectors for time and somatic voltage\n",
        "t_vec = h.Vector().record(h._ref_t)\n",
        "v_soma = h.Vector().record(GC.soma[0](0.5)._ref_v)"
      ]
    },
    {
      "cell_type": "code",
      "source": [
        "#probing neurons for their parameters\n",
        "print(f\"{genotype} Soma Ra: {GC.soma[0].Ra} MOhm\")\n",
        "print(f\"{genotype} Soma L: {GC.soma[0].L:.2f} um\")\n",
        "print(f\"{genotype} Soma Diameter: {GC.soma[0].diam:.2f} um\")\n",
        "print(f\"{genotype} Soma Cm: {GC.soma[0].cm} pF\")"
      ],
      "metadata": {
        "colab": {
          "base_uri": "https://localhost:8080/"
        },
        "id": "c0rRY_wRfFF_",
        "outputId": "77448b41-821b-4d51-8809-81b36ad6031a"
      },
      "execution_count": 12,
      "outputs": [
        {
          "output_type": "stream",
          "name": "stdout",
          "text": [
            "WT Soma Ra: 210.0 MOhm\n",
            "WT Soma L: 8.22 um\n",
            "WT Soma Diameter: 9.29 um\n",
            "WT Soma Cm: 1.0 pF\n"
          ]
        }
      ]
    },
    {
      "cell_type": "markdown",
      "source": [
        "#Measuring Rin and Cm\n",
        "In this next section, we will be calibrating our model in an attempt to match the Williams et al 2015 paper results. The objective is to get our values of Rm and Cm to be as such:\n",
        "\n",
        "WT:\n",
        "\n",
        "KO:\n",
        "\n",
        "The approach we will be taking is to apply a current stimulus and then measure the change in voltage of the soma membrane. With this, we can use Ohm's law to calculate the resistance by dividing the change in voltage by the current.\n",
        "\n",
        "From here, we can take this value and then fit the decay time to a first-order exponential curve to calculate tau. From there, we can divide tau by Rin to get the Cm value."
      ],
      "metadata": {
        "id": "3QRjw6vpjACh"
      }
    },
    {
      "cell_type": "code",
      "source": [
        "#creating current clamp\n",
        "iclamp = h.IClamp(GC.soma[0](0.5))\n",
        "\n",
        "#setting parameters for the current clamp\n",
        "iclamp.amp = 5 #nA\n",
        "iclamp.dur = 10 #ms\n",
        "iclamp.delay = 5 #ms"
      ],
      "metadata": {
        "id": "--zJX_uDdbpz"
      },
      "execution_count": null,
      "outputs": []
    }
  ],
  "metadata": {
    "colab": {
      "provenance": [],
      "include_colab_link": true
    },
    "kernelspec": {
      "display_name": "cmns_env",
      "language": "python",
      "name": "python3"
    },
    "language_info": {
      "codemirror_mode": {
        "name": "ipython",
        "version": 3
      },
      "file_extension": ".py",
      "mimetype": "text/x-python",
      "name": "python",
      "nbconvert_exporter": "python",
      "pygments_lexer": "ipython3",
      "version": "3.9.16"
    },
    "vscode": {
      "interpreter": {
        "hash": "d0488761690764cced0e7b1e141a742f06ea2f3fa8f54952eb1b54a94bfd6a2a"
      }
    }
  },
  "nbformat": 4,
  "nbformat_minor": 0
}