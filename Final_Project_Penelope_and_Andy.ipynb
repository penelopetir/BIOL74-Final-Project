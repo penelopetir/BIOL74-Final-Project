{
  "cells": [
    {
      "cell_type": "markdown",
      "metadata": {
        "id": "view-in-github",
        "colab_type": "text"
      },
      "source": [
        "<a href=\"https://colab.research.google.com/github/penelopetir/BIOL74-Final-Project/blob/main/Final_Project_Penelope_and_Andy.ipynb\" target=\"_parent\"><img src=\"https://colab.research.google.com/assets/colab-badge.svg\" alt=\"Open In Colab\"/></a>"
      ]
    },
    {
      "cell_type": "markdown",
      "metadata": {
        "id": "_UHKq7owyEb3"
      },
      "source": [
        "Before starting, we'll install neuron in our current runtime as usual."
      ]
    },
    {
      "cell_type": "code",
      "execution_count": 1,
      "metadata": {
        "id": "-tIWnxTSyEb4",
        "colab": {
          "base_uri": "https://localhost:8080/"
        },
        "outputId": "43e31645-889a-4753-a37f-49718a772fb9"
      },
      "outputs": [
        {
          "output_type": "stream",
          "name": "stdout",
          "text": [
            "Requirement already satisfied: neuron in /usr/local/lib/python3.10/dist-packages (8.2.4)\n",
            "Requirement already satisfied: numpy>=1.9.3 in /usr/local/lib/python3.10/dist-packages (from neuron) (1.25.2)\n",
            "Requirement already satisfied: packaging in /usr/local/lib/python3.10/dist-packages (from neuron) (24.0)\n",
            "Requirement already satisfied: find-libpython in /usr/local/lib/python3.10/dist-packages (from neuron) (0.4.0)\n",
            "Requirement already satisfied: setuptools in /usr/local/lib/python3.10/dist-packages (from neuron) (67.7.2)\n"
          ]
        }
      ],
      "source": [
        "%pip install neuron # only need to run this cell once to install\n",
        "                    # neuron in the local jupyter environment"
      ]
    },
    {
      "cell_type": "markdown",
      "metadata": {
        "id": "MnLvQk63yEb4"
      },
      "source": [
        "Run the code block below just once to get all the files from the repository into our colab session and compile the MOD mechanism files we'll be using"
      ]
    },
    {
      "cell_type": "code",
      "execution_count": 8,
      "metadata": {
        "id": "W-ggN7a4yEb5",
        "colab": {
          "base_uri": "https://localhost:8080/"
        },
        "outputId": "7193a361-6e61-4313-fb87-4bdaa7fe9f4f"
      },
      "outputs": [
        {
          "output_type": "stream",
          "name": "stdout",
          "text": [
            "Cloning into 'BIOL74-Final-Project'...\n",
            "remote: Enumerating objects: 76, done.\u001b[K\n",
            "remote: Counting objects: 100% (76/76), done.\u001b[K\n",
            "remote: Compressing objects: 100% (70/70), done.\u001b[K\n",
            "remote: Total 76 (delta 31), reused 0 (delta 0), pack-reused 0\u001b[K\n",
            "Receiving objects: 100% (76/76), 56.36 KiB | 1.22 MiB/s, done.\n",
            "Resolving deltas: 100% (31/31), done.\n",
            "/content/BIOL74-Final-Project/BIOL74-Final-Project\n",
            "Mod files: \"mechanisms/mechanisms/CaDynamics_E2.mod\"\n",
            "\n",
            "Creating 'x86_64' directory for .o files.\n",
            "\n",
            " -> \u001b[32mCompiling\u001b[0m mod_func.cpp\n",
            " -> \u001b[32mNMODL\u001b[0m ../mechanisms/CaDynamics_E2.mod\n",
            "Translating CaDynamics_E2.mod into /content/BIOL74-Final-Project/BIOL74-Final-Project/x86_64/CaDynamics_E2.c\n",
            "Thread Safe\n",
            " -> \u001b[32mCompiling\u001b[0m CaDynamics_E2.c\n",
            " => \u001b[32mLINKING\u001b[0m shared library ./libnrnmech.so\n",
            " => \u001b[32mLINKING\u001b[0m executable ./special LDFLAGS are:    -pthread\n",
            "Successfully created x86_64/special\n"
          ]
        }
      ],
      "source": [
        "repo_name = 'BIOL74-Final-Project'\n",
        "if 'google.colab' in str(get_ipython()):\n",
        "    import os\n",
        "    if not os.path.exists(repo_name):\n",
        "        !git clone https://github.com/penelopetir/{repo_name}.git # downloads repository into our Google colab session's file system\n",
        "\n",
        "    os.chdir(repo_name) # Changing working directory to downloaded repository\n",
        "\n",
        "# Compile mechanisms\n",
        "!nrnivmodl mechanisms"
      ]
    },
    {
      "cell_type": "markdown",
      "metadata": {
        "id": "lAF0vI6cyEb5"
      },
      "source": [
        "## Introduction\n",
        "For this exercise, we'll be adapting a model of a L5PC to model granule neurons traced from wild type and PTEN KO groups\n"
      ]
    },
    {
      "cell_type": "markdown",
      "metadata": {
        "id": "WGyY_ksHyEb5"
      },
      "source": [
        "Start by importing the packages we'll be using."
      ]
    },
    {
      "cell_type": "code",
      "execution_count": 4,
      "metadata": {
        "id": "Xjm-vj0QyEb5"
      },
      "outputs": [],
      "source": [
        "from neuron import h # all NEURON hoc functions are accessed through h\n",
        "from neuron import gui # if you're running this notebook in a local environment (instead of on google colab), launches the GUI\n",
        "h.load_file('stdrun.hoc') # loads neuron standard hoc library, not always necessary\n",
        "import numpy as np\n",
        "import matplotlib as mpl\n",
        "mpl.rcParams['axes.spines.right'] = False\n",
        "mpl.rcParams['axes.spines.top'] = False\n",
        "import matplotlib.pyplot as plt\n",
        "import plotly\n",
        "from plotly.subplots import make_subplots\n",
        "import plotly.graph_objects as go\n",
        "\n",
        "if 'google.colab' in str(get_ipython()): # For making interactive plots work on google colab\n",
        "    from google.colab import output\n",
        "    output.enable_custom_widget_manager()\n",
        "else:\n",
        "    plotly.offline.init_notebook_mode() # for printing notebooks offline"
      ]
    },
    {
      "cell_type": "markdown",
      "metadata": {
        "id": "PEqWICXSyEb5"
      },
      "source": [
        "# Dendritic spines and NMDA spikes\n",
        "\n",
        "Let's first explore how dendritic inputs to different parts of a dendritic arbor impact both the local membrane potential in the dendrite and the somatic membrane potential, which is ultimately what needs to reach threshold to output an axonal action potential.\n",
        "\n",
        "We start by importing the necessary model files to instantiate the neuron model with a helper function called `createL5PC`. This python function takes 4 arguments:\n",
        "\n",
        "1) `morphology_file`: a string containing the name of the morphology file\n",
        "\n",
        "2) `spine_seclist_name`: the [SectionList](https://www.neuron.yale.edu/neuron/static/py_doc/modelspec/programmatic/topology/seclist.html) of the dendritic branch we want to populate with spines. `seclist_name` name should be a string that's either `'basal'` for a basal dendritic branch or `'apical'` for an apical dendritic branch. In order to accomodate the additional spine compartments, this function increases the number of compartments in this segment to have at least 2 segments per spine (which comes with added computational cost). Note: the section list names are different from the section names; `apical` sections are named `apic`, e.g., `apic[0]`,`apic[1]`, etc., and `basal` sections are named `dend`, e.g., `dend[0]`,`dend[1]`, etc.\n",
        "\n",
        "3) `spine_sec_ind`: the index of the section within that list to populate with spines\n",
        "\n",
        "4) `spine_interv`: the interval at which the spines will occur in $\\mu m$.\n",
        "\n",
        "It then returns the cell object. It also deletes any existing cells before creating a new one, which is worth keeping in mind in case you want to use it to generate multiple cells in the future. Arguments 2–4 are input to `add_spines` which then creates spines consisting of two single segment `Sections`, `spine_neck` and `spine_head` that are attached to the parent dendritic branch you chose. Each `spine_neck` section is added to the `spine_necks` `SectionList`, and each `spine_head` section is added to the `spine_heads` `SectionList`.\n",
        "\n",
        "In the code block below, select one of the following branches to populate with dendritic spines, you'll be able to visualize which branch this is below:\n",
        "\n",
        "1) `L5PC.apic[36]` - part of the main apical dendritic branch\n",
        "\n",
        "2) `L5PC.apic[67]` - a branch in the apical tuft\n",
        "\n",
        "3) `L5PC.dend[13]` - a basal dendritic branch\n",
        "\n",
        "4) `L5PC.apic[9]` - an oblique apical dendritic branch\n",
        "\n",
        "Populate this branch with a spine every $2\\; \\mu m$."
      ]
    },
    {
      "cell_type": "code",
      "execution_count": 9,
      "metadata": {
        "id": "WrymsFl3yEb6",
        "colab": {
          "base_uri": "https://localhost:8080/",
          "height": 466
        },
        "outputId": "c4392f17-6d84-4c2a-d015-b5933b82f05b"
      },
      "outputs": [
        {
          "output_type": "stream",
          "name": "stderr",
          "text": [
            "NEURON: soma : section was deleted\n",
            " in L5PCbiophys.hoc near line 0\n",
            " }\n",
            "  ^\n",
            "        L5PCtemplate[0].geom_nseg()\n",
            "      L5PCtemplate[0].init(\"morphologi...\", \"apical\", 1, 2)\n"
          ]
        },
        {
          "output_type": "error",
          "ename": "RuntimeError",
          "evalue": "hocobj_call error",
          "traceback": [
            "\u001b[0;31m---------------------------------------------------------------------------\u001b[0m",
            "\u001b[0;31mRuntimeError\u001b[0m                              Traceback (most recent call last)",
            "\u001b[0;32m<ipython-input-9-4b15de5e52a0>\u001b[0m in \u001b[0;36m<cell line: 10>\u001b[0;34m()\u001b[0m\n\u001b[1;32m      8\u001b[0m \u001b[0mWT_file\u001b[0m \u001b[0;34m=\u001b[0m \u001b[0;34m\"morphologies/WT.asc\"\u001b[0m \u001b[0;31m# morphology file\u001b[0m\u001b[0;34m\u001b[0m\u001b[0;34m\u001b[0m\u001b[0m\n\u001b[1;32m      9\u001b[0m \u001b[0mKO_file\u001b[0m \u001b[0;34m=\u001b[0m \u001b[0;34m\"morphologies/PTEN_KO.asc\"\u001b[0m \u001b[0;31m# morphology file\u001b[0m\u001b[0;34m\u001b[0m\u001b[0;34m\u001b[0m\u001b[0m\n\u001b[0;32m---> 10\u001b[0;31m \u001b[0mWT\u001b[0m \u001b[0;34m=\u001b[0m \u001b[0mcreateL5PC\u001b[0m\u001b[0;34m(\u001b[0m\u001b[0mWT_file\u001b[0m\u001b[0;34m,\u001b[0m\u001b[0mspine_seclist_name\u001b[0m\u001b[0;34m,\u001b[0m\u001b[0mspine_sec_ind\u001b[0m\u001b[0;34m,\u001b[0m\u001b[0mspine_interv\u001b[0m\u001b[0;34m)\u001b[0m\u001b[0;34m\u001b[0m\u001b[0;34m\u001b[0m\u001b[0m\n\u001b[0m\u001b[1;32m     11\u001b[0m \u001b[0mPTEN_KO\u001b[0m \u001b[0;34m=\u001b[0m \u001b[0mcreateL5PC\u001b[0m\u001b[0;34m(\u001b[0m\u001b[0mKO_file\u001b[0m\u001b[0;34m,\u001b[0m\u001b[0mspine_seclist_name\u001b[0m\u001b[0;34m,\u001b[0m\u001b[0mspine_sec_ind\u001b[0m\u001b[0;34m,\u001b[0m\u001b[0mspine_interv\u001b[0m\u001b[0;34m)\u001b[0m\u001b[0;34m\u001b[0m\u001b[0;34m\u001b[0m\u001b[0m\n\u001b[1;32m     12\u001b[0m \u001b[0;34m\u001b[0m\u001b[0m\n",
            "\u001b[0;32m/content/BIOL74-Final-Project/helper_functions.py\u001b[0m in \u001b[0;36mcreateL5PC\u001b[0;34m(morphology_file, spine_seclist_name, spine_sec_ind, spine_interv)\u001b[0m\n\u001b[1;32m     18\u001b[0m     \u001b[0;32mfor\u001b[0m \u001b[0msec\u001b[0m \u001b[0;32min\u001b[0m \u001b[0mh\u001b[0m\u001b[0;34m.\u001b[0m\u001b[0mallsec\u001b[0m\u001b[0;34m(\u001b[0m\u001b[0;34m)\u001b[0m\u001b[0;34m:\u001b[0m\u001b[0;34m\u001b[0m\u001b[0;34m\u001b[0m\u001b[0m\n\u001b[1;32m     19\u001b[0m         \u001b[0mh\u001b[0m\u001b[0;34m.\u001b[0m\u001b[0mdelete_section\u001b[0m\u001b[0;34m(\u001b[0m\u001b[0msec\u001b[0m\u001b[0;34m=\u001b[0m\u001b[0msec\u001b[0m\u001b[0;34m)\u001b[0m\u001b[0;34m\u001b[0m\u001b[0;34m\u001b[0m\u001b[0m\n\u001b[0;32m---> 20\u001b[0;31m     \u001b[0mL5PC\u001b[0m \u001b[0;34m=\u001b[0m \u001b[0mh\u001b[0m\u001b[0;34m.\u001b[0m\u001b[0mL5PCtemplate\u001b[0m\u001b[0;34m(\u001b[0m\u001b[0mmorphology_file\u001b[0m\u001b[0;34m,\u001b[0m\u001b[0mspine_seclist_name\u001b[0m\u001b[0;34m,\u001b[0m\u001b[0mspine_sec_ind\u001b[0m\u001b[0;34m,\u001b[0m\u001b[0mspine_interv\u001b[0m\u001b[0;34m)\u001b[0m\u001b[0;34m\u001b[0m\u001b[0;34m\u001b[0m\u001b[0m\n\u001b[0m\u001b[1;32m     21\u001b[0m     \u001b[0;32mreturn\u001b[0m \u001b[0mL5PC\u001b[0m\u001b[0;34m\u001b[0m\u001b[0;34m\u001b[0m\u001b[0m\n\u001b[1;32m     22\u001b[0m \u001b[0;34m\u001b[0m\u001b[0m\n",
            "\u001b[0;31mRuntimeError\u001b[0m: hocobj_call error"
          ]
        }
      ],
      "source": [
        "from helper_functions import createL5PC\n",
        "\n",
        "# fill in code here\n",
        "spine_seclist_name = 'apical'\n",
        "spine_sec_ind = 1 # specify index of branch within section list\n",
        "spine_interv = 2 # spacing between spines in µm\n",
        "\n",
        "WT_file = \"morphologies/WT.asc\" # morphology file\n",
        "KO_file = \"morphologies/PTEN_KO.asc\" # morphology file\n",
        "WT = createL5PC(WT_file,spine_seclist_name,spine_sec_ind,spine_interv)\n",
        "PTEN_KO = createL5PC(KO_file,spine_seclist_name,spine_sec_ind,spine_interv)\n",
        "\n",
        "# Create recording vectors for time and somatic voltage\n",
        "t_vec = h.Vector().record(h._ref_t)\n",
        "v_soma_WT = h.Vector().record(WT.soma[0](0.5)._ref_v)\n",
        "v_soma_KO = h.Vector().record(PTEN_KO.soma[0](0.5)._ref_v)"
      ]
    },
    {
      "cell_type": "markdown",
      "metadata": {
        "id": "kq9---xhyEb6"
      },
      "source": [
        "### Add one AMPA/NMDA synapse to each spine\n",
        "\n",
        "The code below generates one AMPA/NMDA synapse (`ProbAMPANMDA`) per spine with an associated `NetCon` and `NetStim` object, which are each appended to lists. For a refresher on these classes, see [Exercise 9](https://github.com/CompModNervSystem/CompModNervSys-BallAndStickSynapses/blob/main/CompModNervSys_exercise9.ipynb), and/or the documentation for [`NetCon`](https://www.neuron.yale.edu/neuron/static/py_doc/modelspec/programmatic/network/netcon.html) and [`NetStim`](https://www.neuron.yale.edu/neuron/static/py_doc/modelspec/programmatic/mechanisms/mech.html#NetStim).\n",
        "\n",
        "Last exercise we turned the NMDA current off to isolate the contribution of the fast AMPA receptor conductance.  Now, let's explore how the combination of AMPA and NMDA receptors shapes the postsynaptic response. We'll use an NMDA/AMPA ratio of 0.71, but this ratio varies between specific typs of synaptic connections."
      ]
    },
    {
      "cell_type": "code",
      "execution_count": null,
      "metadata": {
        "id": "bkBgv0uCyEb6"
      },
      "outputs": [],
      "source": [
        "# Create a synapse for each spine\n",
        "synapses = [] # Store synapses\n",
        "netstims = [] # Store NetStims\n",
        "netcons = [] # Store NetCons\n",
        "# recording vectors for voltage and current at each synapse (spine head)\n",
        "v_syns = [] # voltage recordings\n",
        "i_syns = [] # synaptic current recordings\n",
        "i_AMPAs = [] # AMPAr specific currents\n",
        "i_NMDAs = [] # AMPAr specific currents\n",
        "synapse_names = [] # string names for each synapse\n",
        "for i in range(int(L5PC.nSecSpines)):\n",
        "    synapses.append(h.ProbAMPANMDA(L5PC.spine_head[i](0.5)))\n",
        "    netstims.append(h.NetStim())\n",
        "    netcons.append(h.NetCon(netstims[i],synapses[i]))\n",
        "    v_syns.append(h.Vector().record(L5PC.spine_head[i](0.5)._ref_v))\n",
        "    i_syns.append(h.Vector().record(synapses[i]._ref_i))\n",
        "    i_AMPAs.append(h.Vector().record(synapses[i]._ref_i_AMPA))\n",
        "    i_NMDAs.append(h.Vector().record(synapses[i]._ref_i_NMDA))\n",
        "    synapse_names.append('spine[{}]'.format(i))"
      ]
    },
    {
      "cell_type": "markdown",
      "metadata": {
        "id": "dLg06GOYyEb6"
      },
      "source": [
        "### Define synaptic parameters\n",
        "\n",
        "The `setParams` function defined below allows you to set the values of any of the synapse objects (defined as `ProbAMPANMDA` mechanisms), `NetStim` objects, or `NetCon` objects. The syntax for these objects is the same as we used in the last exercise.\n",
        "\n",
        "The code cell below uses `setParams` to set all the `NetCon` weights to 0.5, which gives $\\bar{g}_{AMPA} \\approx 0.5 \\; nS$. The weight of each NMDA conductance is set to 0.71 times the AMPA conductance by default. It then sets the number of `NetStim` events (artificial spikes) to 0, turning them off for now."
      ]
    },
    {
      "cell_type": "code",
      "execution_count": null,
      "metadata": {
        "id": "b93s2V0QyEb6"
      },
      "outputs": [],
      "source": [
        "def setParams(obj_list, indices,settings):\n",
        "    # obj_list - list of synapses, netstims, or netcons\n",
        "    # indices - array of indices (integers) of NetStims within the lists to modify\n",
        "    # settings - dictionary of key, value pairs, should match fields of object in list\n",
        "    for i in indices:\n",
        "        obji = obj_list[i]\n",
        "        for key, val in settings.items():\n",
        "            h('{}.{} = {}'.format(obji.hname(),key,val))\n",
        "\n",
        "# Set all the weights to 0.5 (peak conductance of 0.5 nS) and delays to 1 ms\n",
        "setParams(netcons,range(len(synapses)),{'weight':0.5,'delay':1})\n",
        "# turn off netstims for now\n",
        "setParams(netstims,range(len(synapses)),{'number':0})"
      ]
    },
    {
      "cell_type": "markdown",
      "metadata": {
        "id": "37IXfYq_yEb6"
      },
      "source": [
        "### Visualize the morphology\n",
        "\n",
        "Now let's visualize our cell's morphology and the location of the synapses we added."
      ]
    },
    {
      "cell_type": "code",
      "execution_count": null,
      "metadata": {
        "id": "XSIbLpDHyEb7"
      },
      "outputs": [],
      "source": [
        "ps = h.PlotShape(False) # generate a NEURON PlotShape object\n",
        "fig = ps.plot(plotly) # Plot using plotly's renderer\n",
        "scene=dict(camera=dict(up=dict(x=0,y=1,z=0),eye=dict(x=2,y=2,z=2.5)), # define view properties\n",
        "           xaxis=dict(nticks=3,showticklabels=True),\n",
        "           yaxis=dict(nticks=3,showticklabels=True),\n",
        "           zaxis=dict(nticks=3,showticklabels=True),\n",
        "           aspectmode='data', #this string can be 'data', 'cube', 'auto', 'manual'\n",
        "           )\n",
        "fig.update_layout(scene=scene,autosize=False,width=400,height=600)\n",
        "for syn in synapses: # Mark each synapse\n",
        "    fig.mark(syn.get_segment())\n",
        "fig.update_layout(title='Synapse locations')\n",
        "plotly.io.show(fig)\n"
      ]
    },
    {
      "cell_type": "markdown",
      "metadata": {
        "id": "YEofqKROyEb7"
      },
      "source": [
        "### Amplification of EPSPs in single spines\n",
        "\n",
        "Let's first try turning on a single synapse. For these simulations, we'll want to run the simulation for some time to let the voltage equilibriate throughout the model, since we now have several non-linear voltage gated ion channels interacting near rest with non-uniform distributions in the cell.\n",
        "\n",
        "We'll create a plotting function below to visualize the output."
      ]
    },
    {
      "cell_type": "code",
      "execution_count": null,
      "metadata": {
        "id": "Sy7H1moYyEb7"
      },
      "outputs": [],
      "source": [
        "def plot_V_recs(t_vec,v_soma,v_recs,rec_names,x_lim=None,title=None):\n",
        "    # fig = plt.figure()\n",
        "    # ax = fig.add_subplot(111)\n",
        "    # ax.plot(t_vec,v_soma,label = 'soma')\n",
        "    # for v,name in zip(v_recs,rec_names):\n",
        "    #     ax.plot(t_vec,v,label=name) # plots last simulation\n",
        "    # ax.set_xlabel('time (ms)')\n",
        "    # ax.set_ylabel('Vm (mV)')\n",
        "    # ax.legend(frameon=False)\n",
        "    # if x_lim is not None:\n",
        "    #     ax.set_xlim(x_lim)\n",
        "    fig = make_subplots(rows=1,cols=1)\n",
        "    fig.add_trace(go.Scatter(x=t_vec,y=v_soma,name='soma',line=dict(color='rgb(0,0,0)')))\n",
        "    for v, name in zip(v_recs,rec_names):\n",
        "        fig.add_trace(go.Scatter(x=t_vec,y=v,name=name))\n",
        "    fig['layout']['yaxis']['title'] = 'Vm (mV)'\n",
        "    fig['layout']['xaxis']['title'] = 'time (ms)'\n",
        "    if x_lim is not None:\n",
        "        fig.update_layout(xaxis_range=x_lim)\n",
        "    if title is not None:\n",
        "        fig.update_layout(title=title)\n",
        "    fig.show()\n",
        "    return fig"
      ]
    },
    {
      "cell_type": "markdown",
      "metadata": {
        "id": "FrYrYcF6yEb7"
      },
      "source": [
        "Now, using `setParams`, set `number` to 1 and `start_time` to $150 \\; ms$ for the first synapse in your `synapses` list.\n",
        "Run the simulation for $200 \\; ms$ by setting `h.tstop`, set the initial voltage (`h.v_init`) to $-80 mV$, and set the temperature to $37 ^{\\circ} C$"
      ]
    },
    {
      "cell_type": "code",
      "execution_count": null,
      "metadata": {
        "id": "3IMBXkypyEb7"
      },
      "outputs": [],
      "source": [
        "# your code goes here\n",
        "synapse_index =\n",
        "start_time =\n",
        "\n",
        "setParams(netstims,[synapse_index],{'number':,'start':}) # activate 1 AP per synapse\n",
        "\n",
        "# Simulation settings\n",
        "h.celsius =  # deg C\n",
        "h.tstop =  # ms\n",
        "h.v_init =  # mV\n",
        "\n",
        "# Run the simulation\n",
        "h.run()\n",
        "\n",
        "# Plot\n",
        "fig = plot_V_recs(t_vec,v_soma,[v_syns[synapse_index]],[synapse_names[synapse_index]],x_lim=(start_time-10,start_time+50));\n"
      ]
    },
    {
      "cell_type": "markdown",
      "metadata": {
        "id": "3QRvLPMgyEb7"
      },
      "source": [
        "You should see a sizable EPSP on the spine that is attenuated significantly at the soma. How does the presence of the spine alter the local dendritic voltage, i.e., what's the voltage in the parent dendritic branch?\n",
        "\n",
        "We can automatically identify and record from this branch by using some handy methods of NEURON's `Section` and `Segment` python classes, shown below."
      ]
    },
    {
      "cell_type": "code",
      "execution_count": null,
      "metadata": {
        "id": "7DSzXNsqyEb7"
      },
      "outputs": [],
      "source": [
        "parent_seg = synapses[synapse_index].get_segment().sec.parentseg().sec.parentseg() # spine head-> spine neck -> dendritic branch\n",
        "v_parent_dend = h.Vector().record(parent_seg._ref_v) # record from parent dendritic branch\n",
        "\n",
        "h.run() # Run again now that we have a new recording in place\n",
        "\n",
        "plot_V_recs(t_vec,v_soma,[v_syns[synapse_index],v_parent_dend],[synapse_names[synapse_index],'parent_branch'],x_lim=(start_time-10,start_time+50));\n"
      ]
    },
    {
      "cell_type": "markdown",
      "metadata": {
        "id": "IfnC3bfyyEb7"
      },
      "source": [
        "<font color='red'>**Q1**: What electrical property of the dendritic spine causes this local amplification?\n",
        "</font>"
      ]
    },
    {
      "cell_type": "markdown",
      "metadata": {
        "id": "uINChHTyyEb7"
      },
      "source": []
    },
    {
      "cell_type": "markdown",
      "metadata": {
        "id": "YiYhZwHFyEb7"
      },
      "source": [
        "<font color='red'>**Q2**: What happens if you set the spine neck axial resistance to a low value, e.g., $1 \\; \\Omega cm$, and why? Try it out in the cell below and answer in the subsequent text cell. Hint: think back to the voltage divider circuit from [Exercise 2](https://github.com/CompModNervSystem/CompModNervSys-BioElectroStatics)!\n",
        "</font>"
      ]
    },
    {
      "cell_type": "code",
      "execution_count": null,
      "metadata": {
        "id": "5XiKAdP7yEb7"
      },
      "outputs": [],
      "source": [
        "# Change Ra here\n",
        "# your code goes here\n",
        "\n",
        "h.run() # Run again now that we have a new recording in place\n",
        "\n",
        "plot_V_recs(t_vec,v_soma,[v_syns[synapse_index],v_parent_dend],[synapse_names[synapse_index],'parent_branch'],\n",
        "            x_lim=(start_time-10,start_time+50));\n",
        "\n",
        "L5PC.spine_neck[synapse_index].Ra = 100 # resets Ra to default value"
      ]
    },
    {
      "cell_type": "markdown",
      "metadata": {
        "id": "VQI4y8wlyEb7"
      },
      "source": []
    },
    {
      "cell_type": "markdown",
      "metadata": {
        "id": "iBBzKVj1yEb7"
      },
      "source": [
        "### Threshold for NMDA spike generation\n",
        "\n",
        "Now let's try simulating increasing levels of excitation. This can come in the form of additional synapses being synchronously activated or each synapse being activated with additional action potentials in a short time span. The possible parameter space is vast (number and spatial distribution of synapses, frequency and pattern of inputs, etc.), so we'll just explore a few ways this could occur.\n",
        "\n",
        "To make things easier, I've defined a function below called `turnOnSynapses` that allows turning on a given number of synapses (`n_syn`) within a list of synapses, according to one of two options for `distribute_mode`: `'sequential'` or `'even'`. The `NetStim` objects associated with each synapse are all assigned parameters defined in a dictionary `netstim_params`. See the comments in the code below for an example.\n"
      ]
    },
    {
      "cell_type": "code",
      "execution_count": null,
      "metadata": {
        "id": "ef8mMak8yEb7"
      },
      "outputs": [],
      "source": [
        "def turnOnSynapses(n_syn,distribute_mode,netstims,netstim_params):\n",
        "    # Turn on a set number of synapses using setParams\n",
        "    # Input arguments:\n",
        "    #   n_syn - number of synapses to turn on\n",
        "    #   distribute_mode - 'sequential' or 'even', 'sequential' turns on synapses sequentially from proximal to distal in section (e.g.,\n",
        "    #                       with n_syn = 3, the 1st, 2nd, and 3rd synapse would be turned on)\n",
        "    #                      'even' turns on synapses distributed evenly throughout the section (e.g. with n_syn = 3, the synapse at the\n",
        "    #                       beginning, middle, and end of the section would be turned on)\n",
        "    #   netstims - list of NetStims connected to each synapse\n",
        "    #   netstim_params - dictionary of NetStim parameters to assign, should at least include 'number' to set the number of APs to activate\n",
        "    # Example:\n",
        "    # turnOnSynapses(10,'even',netstims,{'number':1,'start':100}) # turns on 10 synapses, evenly distributed, with 1 AP delivered at 100 ms\n",
        "\n",
        "    setParams(netstims,range(len(netstims)),{'number':0}) # turn all off to initialize\n",
        "     # generate indices of synapses to turn on\n",
        "    if distribute_mode == 'sequential': # turns on synapses sequentially from proximal to distal in section\n",
        "        if n_syn > 1:\n",
        "            syn_indices = range(n_syn)\n",
        "        else:\n",
        "            syn_indices = [0]\n",
        "    elif distribute_mode == 'even': # turns on synapses evenly distributed in section\n",
        "        if n_syn > 1:\n",
        "            syn_indices = list(np.linspace(0,len(netstims)-1,n_syn,dtype=int))\n",
        "        else:\n",
        "            syn_indices = [int(len(netstims)/2)]\n",
        "    setParams(netstims,syn_indices,netstim_params) # assign parameters for all synpases in syn_indices\n",
        "\n",
        "    return syn_indices"
      ]
    },
    {
      "cell_type": "markdown",
      "metadata": {
        "id": "NWfwqYOUyEb8"
      },
      "source": [
        "You're now ready to run some computational experiments. Let's start by addressing the question: how many synapses are required, i.e. what is the threshold, to generate an NMDA spike in this specific dendritic branch?\n",
        "\n",
        "Use the code block below to change the number of synapses, their distribution, and the presence of NMDA. As you increase the number of synapses, you should see an NMDA spike. How does activating synapses clustered together sequentially vs. evenly distributed along the branch alter the net effect? What happens to the somatic potential?"
      ]
    },
    {
      "cell_type": "code",
      "execution_count": null,
      "metadata": {
        "id": "gvNQ1vcxyEb8"
      },
      "outputs": [],
      "source": [
        "n_synapses_on = 1\n",
        "distribute_mode = 'even'\n",
        "start_time = 150\n",
        "netstims_params = {'number':1,'start':start_time}\n",
        "h.tstop = 300\n",
        "# Turn on NMDA\n",
        "setParams(synapses,range(len(synapses)),{'NMDA_ratio':0.71})\n",
        "# Turn on desired number of synapses\n",
        "syn_indices = turnOnSynapses(n_synapses_on,distribute_mode,netstims,netstims_params)\n",
        "# Run simulation\n",
        "h.run()\n",
        "# Plot\n",
        "v_soma0 = np.array(v_soma) # grab soma voltage for use later\n",
        "v_syns0 = [np.array(v) for v in v_syns] # grab synaptic voltages for use later\n",
        "plot_V_recs(t_vec,v_soma,[v_syns[i] for i in syn_indices],[synapse_names[i] for i in syn_indices],x_lim=(start_time-10,h.tstop));"
      ]
    },
    {
      "cell_type": "markdown",
      "metadata": {
        "id": "kqWSmV1lyEb8"
      },
      "source": [
        "How might you test that what you observe is a true NMDA spike? In the code block below, run a computational experiment to address this question. Hint: You may want to use `setParams`..."
      ]
    },
    {
      "cell_type": "code",
      "execution_count": null,
      "metadata": {
        "id": "d7QD9OVjyEb8"
      },
      "outputs": [],
      "source": [
        "# Use setParams here\n",
        "\n",
        "# Run simulation\n",
        "h.run()\n",
        "\n",
        "# Plot\n",
        "\n",
        "plot_V_recs(t_vec,v_soma,[v_syns[i] for i in syn_indices],[synapse_names[i] for i in syn_indices],x_lim=(start_time-10,h.tstop));"
      ]
    },
    {
      "cell_type": "markdown",
      "metadata": {
        "id": "tpjc0lGayEb8"
      },
      "source": [
        "Is it possible other voltage-gated conductances are involved in the dendritic branch you're stimulating?\n",
        "\n",
        "The `toggleChannelSeclist` function below allows you to turn off (or back on) any of the channels present in the model in one of the subregions, which are organized into `SectionList`s. The possible section lists are available within the cell object (`L5PC` in this case) and include `L5PC.apical`, `L5PC.basal`, `L5PC.somatic`, or `L5PC.axonal`. The spines also have channels placed in the `spine_head` section mimicking their parent branch, which are included in the `spine_heads` `SectionList`.\n",
        "\n",
        "To specify the channels to switch off/on, I've simplified things a bit to allow you to set groups of channels by setting `channel_type` to one of the following strings:\n",
        "\n",
        "- `'Cav'` - voltage-gated calcium channels, sections may include a low-voltage activated and high-voltage activated channel\n",
        "- `'Kv'` - voltage-gated potassium channels, sections may include a Kv3 channel, and a transient and persistent potassium conductance (only present in the soma)\n",
        "- `'Nav'` - voltage-gated sodium cahnnels, sections may include a transient (inactivating) and persistent (non-inactivating) Nav conductance\n",
        "- `'Kca'` - calcium-activated potassium channel\n",
        "- `'Ih'` - hyperpolarization activated current"
      ]
    },
    {
      "cell_type": "code",
      "execution_count": null,
      "metadata": {
        "id": "4KbYfSJlyEb8"
      },
      "outputs": [],
      "source": [
        "def toggleChannelSeclist(channel_type,cell,seclist,turn_off):\n",
        "    # Turns off/on set of ion channel conductances in input seclist\n",
        "    # Input arguments:\n",
        "    #   channel_type - string of channel type to turn off, see key of mech_names dictionary for possible channel types\n",
        "    #   cell - Cell template object\n",
        "    #   seclist - NEURON h.SectionList object\n",
        "    #   turn_off - True or False. True to turn off channels (set gbar to 0), False to revert channels back to default conductances\n",
        "    # example:\n",
        "    # L5PC = h.L5PCtemplate(morphology_file)\n",
        "    # toggleChannelSeclist('Cav',L5PC,L5PC.apical,1) # turns off Cav channels\n",
        "    # toggleChannelSeclist('Cav',L5PC,L5PC.apical,0) # turns back on\n",
        "    mech_names = {\n",
        "        'Cav': [('gCa_LVAstbar','Ca_LVAst'),('gCa_HVAbar','Ca_HVA')],\n",
        "        'Kv': [('gK_Tstbar','K_Tst'),('gK_Pstbar','K_Pst'),('gSKv3_1bar','SKv3_1'),('gImbar','Im')],\n",
        "        'Nav': [('gNaTa_tbar','NaTa_t'),('gNap_Et2bar','Nap_Et2')],\n",
        "        'Kca': [('gSK_E2bar','SK_E2')],\n",
        "        'Ih': [('gIhbar','Ih')]\n",
        "    }\n",
        "    if turn_off:\n",
        "        for sec in seclist: # loop through sections in section list\n",
        "            for gbar,mech in mech_names[channel_type]: # grab the name of the peak conductance and mechanism\n",
        "                if h.ismembrane(mech,sec=sec): # check if mechanism is present in this section\n",
        "                    h('{} {}_{} = 0'.format(sec.hname(),gbar,mech)) # turn off conductance\n",
        "        print('Turned off {} currents in {} sections'.format(channel_type,seclist))\n",
        "    else:\n",
        "       cell.biophys() # resets conductances to default values\n",
        "       print('Reverted conductances back to default values')\n"
      ]
    },
    {
      "cell_type": "markdown",
      "metadata": {
        "id": "StpMhLDVyEb8"
      },
      "source": [
        "You can test the contribution of any of these channel types in the code block below"
      ]
    },
    {
      "cell_type": "code",
      "execution_count": null,
      "metadata": {
        "id": "Wnamjuv2yEb8"
      },
      "outputs": [],
      "source": [
        "n_synapses_on = 50\n",
        "distribute_mode = 'even'\n",
        "start_time = 150\n",
        "netstims_params = {'number':1,'start':start_time}\n",
        "EPSP_peaks = []\n",
        "h.tstop = 300\n",
        "# Turn on NMDA\n",
        "setParams(synapses,range(len(synapses)),{'NMDA_ratio':0.71})\n",
        "\n",
        "# Turn on desired number of synapses\n",
        "syn_indices = turnOnSynapses(n_synapses_on,distribute_mode,netstims,netstims_params)\n",
        "\n",
        "# Call toggleChannelSeclist here, set to Nav currents to start, modify to channel of your choice\n",
        "toggleChannelSeclist('Nav',L5PC,L5PC.apical,turn_off=True)\n",
        "\n",
        "# Run simulation\n",
        "h.run()\n",
        "# Plot\n",
        "v_soma0 = np.array(v_soma) # grab soma voltage for use later\n",
        "v_syns0 = [np.array(v) for v in v_syns] # grab synaptic voltages for use later\n",
        "plot_V_recs(t_vec,v_soma,[v_syns[i] for i in syn_indices],[synapse_names[i] for i in syn_indices],x_lim=(start_time-10,h.tstop));"
      ]
    },
    {
      "cell_type": "markdown",
      "metadata": {
        "id": "dQFZKxPWyEb8"
      },
      "source": [
        "<font color='red'>**Q3**: Summarize your findings from these computational experiments. In your answer, you should address the questions posed above: how many synapses were necessary to generate an NMDA spikes? How did the net output change if you activated synapses clustered together (sequentially) vs. evenly distributed along the branch? How was the somatic potential affected? Also describe the results of your experiments to verify the NMDA spike and identify the contribution of ion channels to the response.\n",
        "</font>"
      ]
    },
    {
      "cell_type": "markdown",
      "metadata": {
        "id": "xe4RxoMTyEcC"
      },
      "source": []
    },
    {
      "cell_type": "markdown",
      "metadata": {
        "id": "cl_OQb0FyEcD"
      },
      "source": [
        "### Reflections\n",
        "\n",
        "You now have all the software tools to probe the model and run virtually any experiment you can imagine. How does the somatic EPSP vary with number of synapses, and how does this vary with their spatial arrangement? Do synapses clustered together vs. broadly distributed sum differently? How does this summation vary if synapses are made onto spines vs. shafts or with the ratio of AMPA to NMDA currents? And ultimately, how might these biophysical properties constrain, or enable, the processing of information received via presynaptic inputs? Of course, with a model this complex, we should always take caution and make sure what we observe agrees with with real experimental data (when available) and our physical intuition.\n",
        "\n",
        "[Part 2](https://github.com/CompModNervSystem/CompModNervSys-NonLinearDendrites/blob/main/CompModNervSys_exercise10_part2.ipynb) explores a mechanism hypothesized to enable pyramidal neurons to perform *coincidence detection*, allowing them to associate different inputs arriving within a narrow time window by generating bursts of action potentials."
      ]
    }
  ],
  "metadata": {
    "colab": {
      "provenance": [],
      "include_colab_link": true
    },
    "kernelspec": {
      "display_name": "cmns_env",
      "language": "python",
      "name": "python3"
    },
    "language_info": {
      "codemirror_mode": {
        "name": "ipython",
        "version": 3
      },
      "file_extension": ".py",
      "mimetype": "text/x-python",
      "name": "python",
      "nbconvert_exporter": "python",
      "pygments_lexer": "ipython3",
      "version": "3.9.16"
    },
    "vscode": {
      "interpreter": {
        "hash": "d0488761690764cced0e7b1e141a742f06ea2f3fa8f54952eb1b54a94bfd6a2a"
      }
    }
  },
  "nbformat": 4,
  "nbformat_minor": 0
}